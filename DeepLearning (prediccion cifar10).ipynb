{
  "cells": [
    {
      "cell_type": "markdown",
      "metadata": {
        "id": "e5awq5ZU9oJn"
      },
      "source": [
        "## 1. Librerias\n",
        "\n",
        "Para empezar carguemos esas librerias que nos hacen falta"
      ]
    },
    {
      "cell_type": "code",
      "execution_count": 1,
      "metadata": {
        "id": "6e89W2u_9oJo"
      },
      "outputs": [],
      "source": [
        "from tensorflow import keras as ks\n",
        "from matplotlib import pyplot as plt\n",
        "from keras import optimizers\n",
        "import pandas as pd\n",
        "import numpy as np\n",
        "import time\n",
        "import datetime\n",
        "from tensorflow.keras.optimizers import Adam\n",
        "from tensorflow.keras.preprocessing.image import ImageDataGenerator\n",
        "#from sklearn.preprocessing import LabelEncoder"
      ]
    },
    {
      "cell_type": "markdown",
      "metadata": {
        "id": "6_dptlpJ9oJp"
      },
      "source": [
        "## 2. Arquitectura de red del modelo\n"
      ]
    },
    {
      "cell_type": "code",
      "execution_count": 12,
      "metadata": {
        "id": "JoDemzDV9oJp"
      },
      "outputs": [],
      "source": [
        "model = ks.Sequential()\n",
        "\n",
        "model.add(ks.layers.Conv2D(64, (3, 3), strides=1, activation='relu', \n",
        "                          padding='same', input_shape=(32,32,3)))\n",
        "\n",
        "model.add(ks.layers.Conv2D(128, (3, 3), strides=1, activation='relu', \n",
        "                           padding='same', input_shape=(32,32,3)))\n",
        "model.add(ks.layers.MaxPooling2D((2, 2)))\n",
        "model.add(ks.layers.Conv2D(128, (3, 3), strides=1, activation='relu', \n",
        "                           padding='same', input_shape=(32,32,3)))\n",
        "\n",
        "model.add(ks.layers.BatchNormalization() )\n",
        "model.add(ks.layers.Conv2D(256, (3, 3), strides=1, activation='relu', \n",
        "                           padding='same', input_shape=(32,32,3)))\n",
        "\n",
        "model.add(ks.layers.BatchNormalization())\n",
        "model.add(ks.layers.Conv2D(256, (3, 3), strides=1, activation='relu', \n",
        "                           padding='same', input_shape=(32,32,3))) \n",
        "\n",
        "model.add(ks.layers.MaxPooling2D((2, 2)))\n",
        "model.add(ks.layers.BatchNormalization() )\n",
        "model.add(ks.layers.Conv2D(128, (3, 3), strides=1, activation='relu',\n",
        "                           padding='same', input_shape=(32,32,3)))\n",
        "\n",
        "model.add(ks.layers.BatchNormalization())\n",
        "model.add(ks.layers.Conv2D(128, (3, 3), strides=1, activation='relu', \n",
        "                           padding='same', input_shape=(32,32,3)))\n",
        "model.add(ks.layers.MaxPooling2D((2, 2)))\n",
        "model.add(ks.layers.Conv2D(64, (3, 3), strides=1, activation='relu', \n",
        "                           padding='same', input_shape=(32,32,3)))\n",
        "model.add(ks.layers.Dropout(0.3))#\n",
        "model.add(ks.layers.MaxPooling2D((2, 2)))\n",
        "model.add(ks.layers.Conv2D(128, (3, 3), strides=1, activation='relu', \n",
        "                           padding='same', input_shape=(32,32,3)))\n",
        "model.add(ks.layers.Conv2D(64, (3, 3), strides=1, activation='relu',\n",
        "                           padding='same', input_shape=(32,32,3)))\n",
        "\n",
        "model.add(ks.layers.BatchNormalization())\n",
        "model.add(ks.layers.Flatten())\n",
        "model.add(ks.layers.Dense(512, activation='relu'))\n",
        "model.add(ks.layers.Dense(1024, activation='relu'))\n",
        "model.add(ks.layers.Dense(512, activation='relu'))\n",
        "model.add(ks.layers.Dense(256, activation='relu'))####\n",
        "model.add(ks.layers.Dense(128, activation='relu'))\n",
        "model.add(ks.layers.Dropout(0.3))\n",
        "model.add(ks.layers.Dense(10, activation='softmax'))\n"
      ]
    },
    {
      "cell_type": "markdown",
      "metadata": {
        "id": "rhpzEhLy9oJq"
      },
      "source": [
        "Para revisar un modelo, nos basta con llamar al método **.summary()** del modelo"
      ]
    },
    {
      "cell_type": "code",
      "execution_count": 13,
      "metadata": {
        "colab": {
          "base_uri": "https://localhost:8080/"
        },
        "id": "QPzKurY89oJq",
        "outputId": "138be592-f060-4bf5-c58d-70761b48881b"
      },
      "outputs": [
        {
          "name": "stdout",
          "output_type": "stream",
          "text": [
            "Model: \"sequential_6\"\n",
            "_________________________________________________________________\n",
            " Layer (type)                Output Shape              Param #   \n",
            "=================================================================\n",
            " conv2d_60 (Conv2D)          (None, 32, 32, 64)        1792      \n",
            "                                                                 \n",
            " conv2d_61 (Conv2D)          (None, 32, 32, 128)       73856     \n",
            "                                                                 \n",
            " max_pooling2d_27 (MaxPoolin  (None, 16, 16, 128)      0         \n",
            " g2D)                                                            \n",
            "                                                                 \n",
            " conv2d_62 (Conv2D)          (None, 16, 16, 128)       147584    \n",
            "                                                                 \n",
            " batch_normalization_30 (Bat  (None, 16, 16, 128)      512       \n",
            " chNormalization)                                                \n",
            "                                                                 \n",
            " conv2d_63 (Conv2D)          (None, 16, 16, 256)       295168    \n",
            "                                                                 \n",
            " batch_normalization_31 (Bat  (None, 16, 16, 256)      1024      \n",
            " chNormalization)                                                \n",
            "                                                                 \n",
            " conv2d_64 (Conv2D)          (None, 16, 16, 256)       590080    \n",
            "                                                                 \n",
            " max_pooling2d_28 (MaxPoolin  (None, 8, 8, 256)        0         \n",
            " g2D)                                                            \n",
            "                                                                 \n",
            " batch_normalization_32 (Bat  (None, 8, 8, 256)        1024      \n",
            " chNormalization)                                                \n",
            "                                                                 \n",
            " conv2d_65 (Conv2D)          (None, 8, 8, 128)         295040    \n",
            "                                                                 \n",
            " batch_normalization_33 (Bat  (None, 8, 8, 128)        512       \n",
            " chNormalization)                                                \n",
            "                                                                 \n",
            " conv2d_66 (Conv2D)          (None, 8, 8, 128)         147584    \n",
            "                                                                 \n",
            " max_pooling2d_29 (MaxPoolin  (None, 4, 4, 128)        0         \n",
            " g2D)                                                            \n",
            "                                                                 \n",
            " conv2d_67 (Conv2D)          (None, 4, 4, 64)          73792     \n",
            "                                                                 \n",
            " dropout_15 (Dropout)        (None, 4, 4, 64)          0         \n",
            "                                                                 \n",
            " max_pooling2d_30 (MaxPoolin  (None, 2, 2, 64)         0         \n",
            " g2D)                                                            \n",
            "                                                                 \n",
            " conv2d_68 (Conv2D)          (None, 2, 2, 128)         73856     \n",
            "                                                                 \n",
            " conv2d_69 (Conv2D)          (None, 2, 2, 64)          73792     \n",
            "                                                                 \n",
            " batch_normalization_34 (Bat  (None, 2, 2, 64)         256       \n",
            " chNormalization)                                                \n",
            "                                                                 \n",
            " flatten_6 (Flatten)         (None, 256)               0         \n",
            "                                                                 \n",
            " dense_32 (Dense)            (None, 512)               131584    \n",
            "                                                                 \n",
            " dense_33 (Dense)            (None, 1024)              525312    \n",
            "                                                                 \n",
            " dense_34 (Dense)            (None, 512)               524800    \n",
            "                                                                 \n",
            " dense_35 (Dense)            (None, 256)               131328    \n",
            "                                                                 \n",
            " dense_36 (Dense)            (None, 128)               32896     \n",
            "                                                                 \n",
            " dropout_16 (Dropout)        (None, 128)               0         \n",
            "                                                                 \n",
            " dense_37 (Dense)            (None, 10)                1290      \n",
            "                                                                 \n",
            "=================================================================\n",
            "Total params: 3,123,082\n",
            "Trainable params: 3,121,418\n",
            "Non-trainable params: 1,664\n",
            "_________________________________________________________________\n"
          ]
        }
      ],
      "source": [
        "model.summary()"
      ]
    },
    {
      "cell_type": "markdown",
      "metadata": {
        "id": "Y6bEaf7l9oJq"
      },
      "source": [
        "## 3. Optimizador, función error\n"
      ]
    },
    {
      "cell_type": "code",
      "execution_count": 14,
      "metadata": {
        "id": "eDfwXObn9oJr"
      },
      "outputs": [],
      "source": [
        "#from tensorflow.keras.optimizers import Adam\n",
        "#new_adam = Adam(learning_rate=0.0001)\n",
        "\n",
        "model.compile( optimizer='adam' ,\n",
        "              #optimizer=new_adam,\n",
        "              loss='sparse_categorical_crossentropy',\n",
        "              metrics=['accuracy'])\n",
        "\n",
        "\n",
        "\n"
      ]
    },
    {
      "cell_type": "markdown",
      "metadata": {
        "id": "qHBg7wfE9oJr"
      },
      "source": [
        "## 4. Preparamos los datos\n",
        "\n",
        "Cargamos los datos de CIFAR10 de los datasets directamente de las librerias de Keras. Estos ya estan dispuestos en train and test\n",
        "\n",
        "**Detalle importante:** \n",
        "> La red neuronal requiere que los inputs sean números reales, y lo haremos forzando la division de los valores de dentro de las matrices 28x28 (que tienen valoress del 0 al 255) por 255.0 (un real)"
      ]
    },
    {
      "cell_type": "code",
      "execution_count": 15,
      "metadata": {
        "id": "9mZWEbQc9oJr"
      },
      "outputs": [],
      "source": [
        "cifar10 = ks.datasets.cifar10\n",
        "\n",
        "(x_train, y_train), (x_test, y_test) = cifar10.load_data()\n",
        "x_train, x_test = x_train / 255.0, x_test / 255.0\n",
        "y_train_label = y_train\n",
        "y_train,y_test=y_train.flatten(),y_test.flatten()\n",
        "\n"
      ]
    },
    {
      "cell_type": "markdown",
      "metadata": {
        "id": "bQf1GueY9oJs"
      },
      "source": [
        "Obtenemos un array con todas las labels de CIFAR10"
      ]
    },
    {
      "cell_type": "code",
      "execution_count": 16,
      "metadata": {
        "colab": {
          "base_uri": "https://localhost:8080/"
        },
        "id": "EJR1ydE99oJs",
        "outputId": "03f7374c-518f-4d93-e2fa-1c986911e3fa"
      },
      "outputs": [
        {
          "name": "stdout",
          "output_type": "stream",
          "text": [
            "Number of labels: 10\n"
          ]
        }
      ],
      "source": [
        "cifar10_labels = [\n",
        "'airplane', # id 0\n",
        "'automobile',\n",
        "'bird',\n",
        "'cat',\n",
        "'deer',\n",
        "'dog',\n",
        "'frog',\n",
        "'horse',\n",
        "'ship',\n",
        "'truck',\n",
        "]\n",
        "\n",
        "print('Number of labels: %s' % len(cifar10_labels))"
      ]
    },
    {
      "cell_type": "markdown",
      "metadata": {
        "id": "61GhgQs49oJs"
      },
      "source": [
        "Pintemos una muestra de las imagenes del dataset CIFAR10, a ver si se parece en algo a lo que esperamos.\n",
        "Primero, vemos que tipos de datos tengo, después mapeamos esas matrices en una escala de grises utilizando el método **.get_cmap()** de PlotLy con los nueve primeros números del dataset."
      ]
    },
    {
      "cell_type": "code",
      "execution_count": 17,
      "metadata": {
        "colab": {
          "base_uri": "https://localhost:8080/",
          "height": 316
        },
        "id": "9-Dk8dgQ9oJs",
        "outputId": "5df954d0-3c94-49b8-8062-564e863cad19"
      },
      "outputs": [
        {
          "name": "stdout",
          "output_type": "stream",
          "text": [
            "Train: X=(50000, 32, 32, 3), y=(50000,)\n",
            "Test: X=(10000, 32, 32, 3), y=(10000,)\n"
          ]
        },
        {
          "data": {
            "image/png": "[encoded data removed]",
            "text/plain": [
              "<Figure size 432x288 with 9 Axes>"
            ]
          },
          "metadata": {
            "needs_background": "light"
          },
          "output_type": "display_data"
        }
      ],
      "source": [
        "# Pintemos una muestra de las las imagenes del dataset MNIST\n",
        "\n",
        "print('Train: X=%s, y=%s' % (x_train.shape, y_train.shape))\n",
        "print('Test: X=%s, y=%s' % (x_test.shape, y_test.shape))\n",
        "\n",
        "for i in range(9):\n",
        "\n",
        "    plt.subplot(330 + 1 + i)\n",
        "    plt.imshow(x_train[i], cmap=plt.get_cmap('gray'))\n",
        "    plt.title(cifar10_labels[y_train_label[i,0]])\n",
        "\n",
        "plt.subplots_adjust(hspace = 1)\n",
        "plt.show()"
      ]
    },
    {
      "cell_type": "markdown",
      "metadata": {
        "id": "WRm5syYA9oJt"
      },
      "source": [
        "Como vamos a querer ir haciendo validación a la vez que entrenamos (muy practico)"
      ]
    },
    {
      "cell_type": "code",
      "execution_count": 18,
      "metadata": {
        "id": "ll_ESZXN9oJt"
      },
      "outputs": [],
      "source": [
        "x_val = x_train[-10000:]\n",
        "y_val = y_train[-10000:]\n",
        "\n",
        "x_train = x_train[:-10000]\n",
        "y_train = y_train[:-10000]\n"
      ]
    },
    {
      "cell_type": "markdown",
      "metadata": {
        "id": "857gyhgz9oJt"
      },
      "source": [
        "Cuando añadimos convoluciones, necesitamos \"pre-tratar los datos\", porque **la convolución espera una matriz de 4 campos** (más parecido a \"imagenes\"), en el caso de MNIST. CIFAR10 ya tiene el shape adecuado, así que no tenemos que hacer nada, pero como siempre decimos: es mejor que comprobeis su tamaño.\n",
        "\n",
        "Por eso, al salir de la Convolution, hay que hacer un Flatten, porque las capas FullDense esperan arrays, no matrices!!\n",
        "\n",
        "Luego lo imprimimos para ver que todo está correcto"
      ]
    },
    {
      "cell_type": "code",
      "execution_count": 19,
      "metadata": {
        "colab": {
          "base_uri": "https://localhost:8080/"
        },
        "id": "GsD9N7Jf9oJt",
        "outputId": "1d576f5b-6355-4a2c-ce5b-3f22d087c5df"
      },
      "outputs": [
        {
          "name": "stdout",
          "output_type": "stream",
          "text": [
            "Train: X=(40000, 32, 32, 3), y=(40000,)\n",
            "Test: X=(10000, 32, 32, 3), y=(10000,)\n",
            "Validation: X=(10000, 32, 32, 3), y=(10000,)\n"
          ]
        }
      ],
      "source": [
        "# Validamos el resultado\n",
        "print('Train: X=%s, y=%s' % (x_train.shape, y_train.shape))\n",
        "print('Test: X=%s, y=%s' % (x_test.shape, y_test.shape))\n",
        "print('Validation: X=%s, y=%s' % (x_val.shape, y_val.shape))"
      ]
    },
    {
      "cell_type": "markdown",
      "metadata": {
        "id": "x4CSQVcD9oJu"
      },
      "source": [
        "## 5. Entrenamiento\n",
        "\n",
        "Ya podemos ponernos a entrenar el modelo!! Ojo, que hemos de entrenar contra los datos convertidos al formato que espera la Convolution.\n",
        "\n",
        "Empezaremos con 30 epocs, es decir, 30 pasadas completas del dataset (que a su vez sera con mini-batches internamente), fijando un batch de 64\n",
        "\n",
        "El metodo .fit() nos permite, definir además si disponemos de varias CPUs, GPUs, y si queremos ir validando datos a cada fin de epoch."
      ]
    },
    {
      "cell_type": "code",
      "execution_count": 20,
      "metadata": {
        "id": "PVaCzxA4bDR6"
      },
      "outputs": [],
      "source": [
        "train_datagen= ImageDataGenerator(\n",
        "    rotation_range=10,\n",
        "    shear_range=0.1,\n",
        "    zoom_range=0.1,\n",
        "    horizontal_flip=True,\n",
        "    width_shift_range=0.1,\n",
        "    height_shift_range=0.1,\n",
        "    fill_mode='nearest')"
      ]
    },
    {
      "cell_type": "code",
      "execution_count": 21,
      "metadata": {
        "id": "wL2m2VxFbDF3"
      },
      "outputs": [],
      "source": [
        "train_generator=train_datagen.flow(x_train, y_train, batch_size=150)"
      ]
    },
    {
      "cell_type": "code",
      "execution_count": 22,
      "metadata": {
        "id": "WVDxMUFK9oJu"
      },
      "outputs": [],
      "source": [
        "t = time.perf_counter()"
      ]
    },
    {
      "cell_type": "code",
      "execution_count": 23,
      "metadata": {
        "id": "AYyrZEMqC2tu"
      },
      "outputs": [],
      "source": [
        "from tensorflow.keras.callbacks import EarlyStopping\n",
        "\n",
        "\n",
        "callback_loss = EarlyStopping(monitor='val_loss', patience=5)\n",
        "callback_acc = EarlyStopping(monitor='val_accuracy', patience=5)"
      ]
    },
    {
      "cell_type": "code",
      "execution_count": 24,
      "metadata": {
        "colab": {
          "base_uri": "https://localhost:8080/"
        },
        "id": "QFmcnncCc27F",
        "outputId": "f7185008-789f-4ca8-a58d-de2fe215b8f3"
      },
      "outputs": [
        {
          "name": "stdout",
          "output_type": "stream",
          "text": [
            "Epoch 1/300\n",
            "267/267 [==============================] - 44s 125ms/step - loss: 1.6833 - accuracy: 0.3707 - val_loss: 4.8797 - val_accuracy: 0.0989 - lr: 0.0010\n",
            "Epoch 2/300\n",
            "267/267 [==============================] - 30s 112ms/step - loss: 1.2876 - accuracy: 0.5410 - val_loss: 1.8705 - val_accuracy: 0.3893 - lr: 0.0010\n",
            "Epoch 3/300\n",
            "267/267 [==============================] - 30s 110ms/step - loss: 1.0811 - accuracy: 0.6206 - val_loss: 1.1265 - val_accuracy: 0.6257 - lr: 0.0010\n",
            "Epoch 4/300\n",
            "267/267 [==============================] - 30s 112ms/step - loss: 0.9597 - accuracy: 0.6660 - val_loss: 0.8899 - val_accuracy: 0.6853 - lr: 0.0010\n",
            "Epoch 5/300\n",
            "267/267 [==============================] - 29s 110ms/step - loss: 0.8626 - accuracy: 0.7038 - val_loss: 0.9596 - val_accuracy: 0.6861 - lr: 0.0010\n",
            "Epoch 6/300\n",
            "267/267 [==============================] - 29s 110ms/step - loss: 0.7826 - accuracy: 0.7322 - val_loss: 0.7346 - val_accuracy: 0.7411 - lr: 0.0010\n",
            "Epoch 7/300\n",
            "267/267 [==============================] - 30s 113ms/step - loss: 0.7215 - accuracy: 0.7583 - val_loss: 0.8434 - val_accuracy: 0.7225 - lr: 0.0010\n",
            "Epoch 8/300\n",
            "267/267 [==============================] - 29s 110ms/step - loss: 0.6623 - accuracy: 0.7811 - val_loss: 1.1363 - val_accuracy: 0.6138 - lr: 0.0010\n",
            "Epoch 9/300\n",
            "267/267 [==============================] - 30s 112ms/step - loss: 0.6123 - accuracy: 0.7985 - val_loss: 0.7487 - val_accuracy: 0.7562 - lr: 0.0010\n",
            "Epoch 10/300\n",
            "267/267 [==============================] - 29s 109ms/step - loss: 0.5701 - accuracy: 0.8121 - val_loss: 0.7225 - val_accuracy: 0.7665 - lr: 0.0010\n",
            "Epoch 11/300\n",
            "267/267 [==============================] - 29s 110ms/step - loss: 0.5367 - accuracy: 0.8234 - val_loss: 0.7176 - val_accuracy: 0.7780 - lr: 0.0010\n",
            "Epoch 12/300\n",
            "267/267 [==============================] - 29s 108ms/step - loss: 0.5003 - accuracy: 0.8351 - val_loss: 0.7065 - val_accuracy: 0.7612 - lr: 0.0010\n",
            "Epoch 13/300\n",
            "267/267 [==============================] - 29s 109ms/step - loss: 0.4751 - accuracy: 0.8431 - val_loss: 0.5853 - val_accuracy: 0.8107 - lr: 0.0010\n",
            "Epoch 14/300\n",
            "267/267 [==============================] - 31s 116ms/step - loss: 0.4552 - accuracy: 0.8529 - val_loss: 0.6117 - val_accuracy: 0.7986 - lr: 0.0010\n",
            "Epoch 15/300\n",
            "267/267 [==============================] - 29s 109ms/step - loss: 0.4233 - accuracy: 0.8613 - val_loss: 0.7626 - val_accuracy: 0.7605 - lr: 0.0010\n",
            "Epoch 16/300\n",
            "267/267 [==============================] - ETA: 0s - loss: 0.4067 - accuracy: 0.8679\n",
            "Epoch 16: ReduceLROnPlateau reducing learning rate to 0.00020000000949949026.\n",
            "267/267 [==============================] - 30s 112ms/step - loss: 0.4067 - accuracy: 0.8679 - val_loss: 0.6344 - val_accuracy: 0.7909 - lr: 0.0010\n",
            "Epoch 17/300\n",
            "267/267 [==============================] - 29s 109ms/step - loss: 0.3099 - accuracy: 0.8982 - val_loss: 0.3982 - val_accuracy: 0.8676 - lr: 2.0000e-04\n",
            "Epoch 18/300\n",
            "267/267 [==============================] - 29s 108ms/step - loss: 0.2748 - accuracy: 0.9085 - val_loss: 0.3858 - val_accuracy: 0.8744 - lr: 2.0000e-04\n",
            "Epoch 19/300\n",
            "267/267 [==============================] - 30s 112ms/step - loss: 0.2611 - accuracy: 0.9147 - val_loss: 0.3896 - val_accuracy: 0.8732 - lr: 2.0000e-04\n",
            "Epoch 20/300\n",
            "267/267 [==============================] - 29s 109ms/step - loss: 0.2504 - accuracy: 0.9166 - val_loss: 0.3899 - val_accuracy: 0.8753 - lr: 2.0000e-04\n",
            "Epoch 21/300\n",
            "267/267 [==============================] - 30s 114ms/step - loss: 0.2367 - accuracy: 0.9197 - val_loss: 0.4026 - val_accuracy: 0.8724 - lr: 2.0000e-04\n",
            "Epoch 22/300\n",
            "267/267 [==============================] - 29s 110ms/step - loss: 0.2272 - accuracy: 0.9240 - val_loss: 0.3620 - val_accuracy: 0.8840 - lr: 2.0000e-04\n",
            "Epoch 23/300\n",
            "267/267 [==============================] - 29s 108ms/step - loss: 0.2263 - accuracy: 0.9252 - val_loss: 0.4310 - val_accuracy: 0.8620 - lr: 2.0000e-04\n",
            "Epoch 24/300\n",
            "267/267 [==============================] - 30s 111ms/step - loss: 0.2163 - accuracy: 0.9283 - val_loss: 0.4175 - val_accuracy: 0.8713 - lr: 2.0000e-04\n",
            "Epoch 25/300\n",
            "267/267 [==============================] - ETA: 0s - loss: 0.2076 - accuracy: 0.9300\n",
            "Epoch 25: ReduceLROnPlateau reducing learning rate to 4.0000001899898055e-05.\n",
            "267/267 [==============================] - 29s 110ms/step - loss: 0.2076 - accuracy: 0.9300 - val_loss: 0.4071 - val_accuracy: 0.8770 - lr: 2.0000e-04\n",
            "Epoch 26/300\n",
            "267/267 [==============================] - 30s 112ms/step - loss: 0.1879 - accuracy: 0.9370 - val_loss: 0.3581 - val_accuracy: 0.8903 - lr: 4.0000e-05\n",
            "Epoch 27/300\n",
            "267/267 [==============================] - 30s 112ms/step - loss: 0.1823 - accuracy: 0.9394 - val_loss: 0.3671 - val_accuracy: 0.8882 - lr: 4.0000e-05\n",
            "Epoch 28/300\n",
            "267/267 [==============================] - 29s 108ms/step - loss: 0.1807 - accuracy: 0.9408 - val_loss: 0.3674 - val_accuracy: 0.8879 - lr: 4.0000e-05\n",
            "Epoch 29/300\n",
            "267/267 [==============================] - ETA: 0s - loss: 0.1753 - accuracy: 0.9421\n",
            "Epoch 29: ReduceLROnPlateau reducing learning rate to 1e-05.\n",
            "267/267 [==============================] - 30s 111ms/step - loss: 0.1753 - accuracy: 0.9421 - val_loss: 0.3628 - val_accuracy: 0.8900 - lr: 4.0000e-05\n",
            "Epoch 30/300\n",
            "267/267 [==============================] - 29s 110ms/step - loss: 0.1738 - accuracy: 0.9420 - val_loss: 0.3637 - val_accuracy: 0.8897 - lr: 1.0000e-05\n",
            "Epoch 31/300\n",
            "267/267 [==============================] - 35s 133ms/step - loss: 0.1746 - accuracy: 0.9417 - val_loss: 0.3661 - val_accuracy: 0.8886 - lr: 1.0000e-05\n"
          ]
        }
      ],
      "source": [
        "history = model.fit(\n",
        "                    train_generator, epochs=300,\n",
        "                    #steps_per_epoch = 150, \n",
        "                    use_multiprocessing=False, batch_size= 256, #medio alto\n",
        "                    validation_data=(x_val, y_val),\n",
        "                    callbacks=[callback_loss, callback_acc,\n",
        "                    # Reducir la tasa de aprendizaje si la precisión no mejora en 2 epochs consecutivos\n",
        "                    ks.callbacks.ReduceLROnPlateau(monitor='val_accuracy', factor=0.2, patience=3, \n",
        "                                                   verbose=1, mode='auto', min_lr=0.00001)]\n",
        "                    )"
      ]
    },
    {
      "cell_type": "code",
      "execution_count": 25,
      "metadata": {
        "colab": {
          "base_uri": "https://localhost:8080/"
        },
        "id": "OPFPUNcJ9oJu",
        "outputId": "be74b852-b9f6-41cd-c6f0-52ee1ad0ad58"
      },
      "outputs": [
        {
          "name": "stdout",
          "output_type": "stream",
          "text": [
            "Tiempo de entrenamiento: 0:16:07.957755\n"
          ]
        }
      ],
      "source": [
        "elapsed_time = datetime.timedelta(seconds=(time.perf_counter() - t))\n",
        "\n",
        "print('Tiempo de entrenamiento:', elapsed_time)"
      ]
    },
    {
      "cell_type": "markdown",
      "metadata": {
        "id": "n6Byf3JG9oJu"
      },
      "source": [
        "## 6. Evaluamos los resultados\n",
        "\n",
        "Obtengamos una grafica de como el error y la accuracy van evolucionando en cada epoch en los datos de entrenamiento y en la validación"
      ]
    },
    {
      "cell_type": "code",
      "execution_count": 26,
      "metadata": {
        "colab": {
          "base_uri": "https://localhost:8080/"
        },
        "id": "j9IaZ3-W9oJv",
        "outputId": "df96f30c-6105-4eb4-f22e-911dc198de09"
      },
      "outputs": [
        {
          "name": "stdout",
          "output_type": "stream",
          "text": [
            "> 88.030\n"
          ]
        }
      ],
      "source": [
        "_, acc = model.evaluate(x_test, y_test, verbose=0)\n",
        "print('> %.3f' % (acc * 100.0))"
      ]
    },
    {
      "cell_type": "code",
      "execution_count": 27,
      "metadata": {
        "colab": {
          "base_uri": "https://localhost:8080/",
          "height": 545
        },
        "id": "GrH8OFmF9oJv",
        "outputId": "b535e99f-6699-44a5-f79f-ab1de593f02d"
      },
      "outputs": [
        {
          "data": {
            "image/png": "[encoded data removed]",
            "text/plain": [
              "<Figure size 432x288 with 1 Axes>"
            ]
          },
          "metadata": {
            "needs_background": "light"
          },
          "output_type": "display_data"
        },
        {
          "data": {
            "image/png": "[encoded data removed]",
            "text/plain": [
              "<Figure size 432x288 with 1 Axes>"
            ]
          },
          "metadata": {
            "needs_background": "light"
          },
          "output_type": "display_data"
        }
      ],
      "source": [
        "plt.title('Cross Entropy Loss')\n",
        "plt.plot(history.history['loss'], color='blue', label='train')\n",
        "plt.plot(history.history['val_loss'], color='orange', label='val')\n",
        "plt.legend()\n",
        "plt.show()\n",
        "\n",
        "plt.title('Classification Accuracy')\n",
        "plt.plot(history.history['accuracy'], color='blue', label='train')\n",
        "plt.plot(history.history['val_accuracy'], color='orange', label='val')\n",
        "plt.legend()\n",
        "plt.show()"
      ]
    },
    {
      "cell_type": "markdown",
      "metadata": {
        "id": "BT7Xpz409oJv"
      },
      "source": [
        "El coste podemos ver que es estable y es en el epoch 15 que se fija en un valor. Además la accuracy baila alrededor de 0.10. No se puede decir que sea un modelo muy bueno.\n",
        "\n",
        "Veamos que tipo de predicciones estoy obteniendo sobre el conjunto de test (vamos a pintar las imagenes y sus clasificaciones)"
      ]
    },
    {
      "cell_type": "code",
      "execution_count": null,
      "metadata": {
        "colab": {
          "base_uri": "https://localhost:8080/"
        },
        "id": "G4gqi32X9oJw",
        "outputId": "67cf3958-c301-4631-f92c-1d624ec2c190"
      },
      "outputs": [
        {
          "name": "stdout",
          "output_type": "stream",
          "text": [
            "313/313 [==============================] - 2s 5ms/step\n"
          ]
        }
      ],
      "source": [
        "predictions = model.predict(x_test)"
      ]
    },
    {
      "cell_type": "markdown",
      "metadata": {
        "id": "3blmpM1k9oJw"
      },
      "source": [
        "Una de las ventajas de Python es que hay montones de funciones y código realizado por terceras personas. Aquí me he fusilado unas bonitas funciones (que he adaptado un poco a mis necesidades) para poder pintar las imagenes, su label (ground truth) y las clasificaciones que hemos realizado."
      ]
    },
    {
      "cell_type": "code",
      "execution_count": null,
      "metadata": {
        "id": "P02wctIA9oJw"
      },
      "outputs": [],
      "source": [
        "def plot_image(i, predictions_array, true_label, img):\n",
        "  predictions_array, true_label, img = predictions_array, true_label[i], img[i]\n",
        "  plt.grid(False)\n",
        "  plt.xticks([])\n",
        "  plt.yticks([])\n",
        "\n",
        "  plt.imshow(img, cmap=plt.cm.binary)\n",
        "\n",
        "  predicted_label = np.argmax(predictions_array)\n",
        "  if predicted_label == true_label:\n",
        "    color = 'blue'\n",
        "  else:\n",
        "    color = 'red'\n",
        "\n",
        "  plt.xlabel(\"{} {:2.0f}% ({})\".format(predicted_label,\n",
        "                                100*np.max(predictions_array),\n",
        "                                true_label[0]),\n",
        "                                color=color)\n",
        "\n",
        "def plot_value_array(i, predictions_array, true_label):\n",
        "  predictions_array, true_label = predictions_array, true_label[i]\n",
        "  plt.grid(False)\n",
        "  plt.xticks(range(10))\n",
        "  plt.yticks([])\n",
        "  thisplot = plt.bar(range(10), predictions_array, color=\"#777777\")\n",
        "  plt.ylim([0, 1])\n",
        "  predicted_label = np.argmax(predictions_array)\n",
        "\n",
        "  thisplot[predicted_label].set_color('red')\n",
        "  thisplot[true_label[0]].set_color('blue')"
      ]
    },
    {
      "cell_type": "markdown",
      "metadata": {
        "id": "kCoAXQ6e9oJw"
      },
      "source": [
        "Dibujamos las primeras imagenes, con las predicciones y sus valores reales (un total de 20 imagenes, para no abusar de vuestros laptops)\n",
        "\n",
        "Coloreamos las prediciones correctas en azul y los fallos en rojo. Aunque primero he impreso las etiquetas para que tengamos una referencia al grafico."
      ]
    },
    {
      "cell_type": "code",
      "execution_count": null,
      "metadata": {
        "colab": {
          "base_uri": "https://localhost:8080/",
          "height": 641
        },
        "id": "4jcGyOkV9oJx",
        "outputId": "213b2587-3339-4f93-edb9-cd894032c51f"
      },
      "outputs": [
        {
          "name": "stdout",
          "output_type": "stream",
          "text": [
            "0 airplane\n",
            "1 automobile\n",
            "2 bird\n",
            "3 cat\n",
            "4 deer\n",
            "5 dog\n",
            "6 frog\n",
            "7 horse\n",
            "8 ship\n",
            "9 truck\n"
          ]
        },
        {
          "ename": "IndexError",
          "evalue": "ignored",
          "output_type": "error",
          "traceback": [
            "\u001b[0;31m---------------------------------------------------------------------------\u001b[0m",
            "\u001b[0;31mIndexError\u001b[0m                                Traceback (most recent call last)",
            "\u001b[0;32m<ipython-input-25-20ddcb7bf610>\u001b[0m in \u001b[0;36m<module>\u001b[0;34m\u001b[0m\n\u001b[1;32m     11\u001b[0m \u001b[0;32mfor\u001b[0m \u001b[0mi\u001b[0m \u001b[0;32min\u001b[0m \u001b[0mrange\u001b[0m\u001b[0;34m(\u001b[0m\u001b[0mnum_images\u001b[0m\u001b[0;34m)\u001b[0m\u001b[0;34m:\u001b[0m\u001b[0;34m\u001b[0m\u001b[0;34m\u001b[0m\u001b[0m\n\u001b[1;32m     12\u001b[0m   \u001b[0mplt\u001b[0m\u001b[0;34m.\u001b[0m\u001b[0msubplot\u001b[0m\u001b[0;34m(\u001b[0m\u001b[0mnum_rows\u001b[0m\u001b[0;34m,\u001b[0m \u001b[0;36m2\u001b[0m\u001b[0;34m*\u001b[0m\u001b[0mnum_cols\u001b[0m\u001b[0;34m,\u001b[0m \u001b[0;36m2\u001b[0m\u001b[0;34m*\u001b[0m\u001b[0mi\u001b[0m\u001b[0;34m+\u001b[0m\u001b[0;36m1\u001b[0m\u001b[0;34m)\u001b[0m\u001b[0;34m\u001b[0m\u001b[0;34m\u001b[0m\u001b[0m\n\u001b[0;32m---> 13\u001b[0;31m   \u001b[0mplot_image\u001b[0m\u001b[0;34m(\u001b[0m\u001b[0mi\u001b[0m\u001b[0;34m+\u001b[0m\u001b[0mstart\u001b[0m\u001b[0;34m,\u001b[0m \u001b[0mpredictions\u001b[0m\u001b[0;34m[\u001b[0m\u001b[0mi\u001b[0m\u001b[0;34m+\u001b[0m\u001b[0mstart\u001b[0m\u001b[0;34m]\u001b[0m\u001b[0;34m,\u001b[0m \u001b[0my_test\u001b[0m\u001b[0;34m,\u001b[0m \u001b[0mx_test\u001b[0m\u001b[0;34m)\u001b[0m\u001b[0;34m\u001b[0m\u001b[0;34m\u001b[0m\u001b[0m\n\u001b[0m\u001b[1;32m     14\u001b[0m   \u001b[0mplt\u001b[0m\u001b[0;34m.\u001b[0m\u001b[0msubplot\u001b[0m\u001b[0;34m(\u001b[0m\u001b[0mnum_rows\u001b[0m\u001b[0;34m,\u001b[0m \u001b[0;36m2\u001b[0m\u001b[0;34m*\u001b[0m\u001b[0mnum_cols\u001b[0m\u001b[0;34m,\u001b[0m \u001b[0;36m2\u001b[0m\u001b[0;34m*\u001b[0m\u001b[0mi\u001b[0m\u001b[0;34m+\u001b[0m\u001b[0;36m2\u001b[0m\u001b[0;34m)\u001b[0m\u001b[0;34m\u001b[0m\u001b[0;34m\u001b[0m\u001b[0m\n\u001b[1;32m     15\u001b[0m   \u001b[0mplot_value_array\u001b[0m\u001b[0;34m(\u001b[0m\u001b[0mi\u001b[0m\u001b[0;34m+\u001b[0m\u001b[0mstart\u001b[0m\u001b[0;34m,\u001b[0m \u001b[0mpredictions\u001b[0m\u001b[0;34m[\u001b[0m\u001b[0mi\u001b[0m\u001b[0;34m+\u001b[0m\u001b[0mstart\u001b[0m\u001b[0;34m]\u001b[0m\u001b[0;34m,\u001b[0m \u001b[0my_test\u001b[0m\u001b[0;34m)\u001b[0m\u001b[0;34m\u001b[0m\u001b[0;34m\u001b[0m\u001b[0m\n",
            "\u001b[0;32m<ipython-input-23-ecc912323b35>\u001b[0m in \u001b[0;36mplot_image\u001b[0;34m(i, predictions_array, true_label, img)\u001b[0m\n\u001b[1;32m     15\u001b[0m   plt.xlabel(\"{} {:2.0f}% ({})\".format(predicted_label,\n\u001b[1;32m     16\u001b[0m                                 \u001b[0;36m100\u001b[0m\u001b[0;34m*\u001b[0m\u001b[0mnp\u001b[0m\u001b[0;34m.\u001b[0m\u001b[0mmax\u001b[0m\u001b[0;34m(\u001b[0m\u001b[0mpredictions_array\u001b[0m\u001b[0;34m)\u001b[0m\u001b[0;34m,\u001b[0m\u001b[0;34m\u001b[0m\u001b[0;34m\u001b[0m\u001b[0m\n\u001b[0;32m---> 17\u001b[0;31m                                 true_label[0]),\n\u001b[0m\u001b[1;32m     18\u001b[0m                                 color=color)\n\u001b[1;32m     19\u001b[0m \u001b[0;34m\u001b[0m\u001b[0m\n",
            "\u001b[0;31mIndexError\u001b[0m: invalid index to scalar variable."
          ]
        },
        {
          "data": {
            "image/png": "[encoded data removed]",
            "text/plain": [
              "<Figure size 1152x720 with 1 Axes>"
            ]
          },
          "metadata": {},
          "output_type": "display_data"
        }
      ],
      "source": [
        "i = 0\n",
        "for l in cifar10_labels:\n",
        "    print(i, l)\n",
        "    i += 1\n",
        "\n",
        "num_rows = 5\n",
        "num_cols = 4\n",
        "start = 650\n",
        "num_images = num_rows*num_cols\n",
        "plt.figure(figsize=(2*2*num_cols, 2*num_rows))\n",
        "for i in range(num_images):\n",
        "  plt.subplot(num_rows, 2*num_cols, 2*i+1)\n",
        "  plot_image(i+start, predictions[i+start], y_test, x_test)\n",
        "  plt.subplot(num_rows, 2*num_cols, 2*i+2)\n",
        "  plot_value_array(i+start, predictions[i+start], y_test)\n",
        "plt.tight_layout()\n",
        "plt.show()"
      ]
    },
    {
      "cell_type": "markdown",
      "metadata": {
        "id": "_JU9pRS1iNJ2"
      },
      "source": [
        "## 7. Guardamos el modelo para futuras evaluaciones\n",
        "\n",
        "Id cambiando los nombres del archivo para ir guardando los diversos proyectos.\n",
        "Aquí lo guardamos en \"local\", pero recordad que lo ideal es que lo guardeis en Google Drive (teneis que montar la unidad, fijar la ruta y allí guardar el modelo .h5)"
      ]
    },
    {
      "cell_type": "code",
      "execution_count": null,
      "metadata": {
        "id": "wEaRpWif9oJx"
      },
      "outputs": [],
      "source": [
        "model.save('cifar10_base_model.h5')"
      ]
    },
    {
      "cell_type": "code",
      "execution_count": null,
      "metadata": {
        "id": "RUeYZHYd9oJx"
      },
      "outputs": [],
      "source": []
    }
  ],
  "metadata": {
    "accelerator": "GPU",
    "colab": {
      "provenance": []
    },
    "gpuClass": "standard",
    "kernelspec": {
      "display_name": "Python 3",
      "language": "python",
      "name": "python3"
    },
    "language_info": {
      "codemirror_mode": {
        "name": "ipython",
        "version": 3
      },
      "file_extension": ".py",
      "mimetype": "text/x-python",
      "name": "python",
      "nbconvert_exporter": "python",
      "pygments_lexer": "ipython3",
      "version": "3.8.5"
    }
  },
  "nbformat": 4,
  "nbformat_minor": 0
}
